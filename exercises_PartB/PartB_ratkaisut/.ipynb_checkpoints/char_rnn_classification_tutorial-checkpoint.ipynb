{
 "cells": [
  {
   "cell_type": "code",
   "execution_count": 3,
   "metadata": {
    "collapsed": false,
    "jupyter": {
     "outputs_hidden": false
    }
   },
   "outputs": [],
   "source": [
    "%matplotlib inline"
   ]
  },
  {
   "cell_type": "markdown",
   "metadata": {},
   "source": [
    "\n",
    "NLP From Scratch: Classifying Names with a Character-Level RNN\n",
    "**************************************************************\n",
    "**Author**: `Sean Robertson <https://github.com/spro/practical-pytorch>`_\n",
    "\n",
    "We will be building and training a basic character-level RNN to classify\n",
    "words. This tutorial, along with the following two, show how to do\n",
    "preprocess data for NLP modeling \"from scratch\", in particular not using\n",
    "many of the convenience functions of `torchtext`, so you can see how\n",
    "preprocessing for NLP modeling works at a low level.\n",
    "\n",
    "A character-level RNN reads words as a series of characters -\n",
    "outputting a prediction and \"hidden state\" at each step, feeding its\n",
    "previous hidden state into each next step. We take the final prediction\n",
    "to be the output, i.e. which class the word belongs to.\n",
    "\n",
    "Specifically, we'll train on a few thousand surnames from 18 languages\n",
    "of origin, and predict which language a name is from based on the\n",
    "spelling:\n",
    "\n",
    "::\n",
    "\n",
    "    $ python predict.py Hinton\n",
    "    (-0.47) Scottish\n",
    "    (-1.52) English\n",
    "    (-3.57) Irish\n",
    "\n",
    "    $ python predict.py Schmidhuber\n",
    "    (-0.19) German\n",
    "    (-2.48) Czech\n",
    "    (-2.68) Dutch\n",
    "\n",
    "\n",
    "**Recommended Reading:**\n",
    "\n",
    "I assume you have at least installed PyTorch, know Python, and\n",
    "understand Tensors:\n",
    "\n",
    "-  https://pytorch.org/ For installation instructions\n",
    "-  :doc:`/beginner/deep_learning_60min_blitz` to get started with PyTorch in general\n",
    "-  :doc:`/beginner/pytorch_with_examples` for a wide and deep overview\n",
    "-  :doc:`/beginner/former_torchies_tutorial` if you are former Lua Torch user\n",
    "\n",
    "It would also be useful to know about RNNs and how they work:\n",
    "\n",
    "-  `The Unreasonable Effectiveness of Recurrent Neural\n",
    "   Networks <https://karpathy.github.io/2015/05/21/rnn-effectiveness/>`__\n",
    "   shows a bunch of real life examples\n",
    "-  `Understanding LSTM\n",
    "   Networks <https://colah.github.io/posts/2015-08-Understanding-LSTMs/>`__\n",
    "   is about LSTMs specifically but also informative about RNNs in\n",
    "   general\n",
    "\n",
    "Preparing the Data\n",
    "==================\n",
    "\n",
    ".. Note::\n",
    "   Download the data from\n",
    "   `here <https://download.pytorch.org/tutorial/data.zip>`_\n",
    "   and extract it to the current directory.\n",
    "\n",
    "Included in the ``data/names`` directory are 18 text files named as\n",
    "\"[Language].txt\". Each file contains a bunch of names, one name per\n",
    "line, mostly romanized (but we still need to convert from Unicode to\n",
    "ASCII).\n",
    "\n",
    "We'll end up with a dictionary of lists of names per language,\n",
    "``{language: [names ...]}``. The generic variables \"category\" and \"line\"\n",
    "(for language and name in our case) are used for later extensibility.\n",
    "\n"
   ]
  },
  {
   "cell_type": "markdown",
   "metadata": {},
   "source": [
    "## Finnish names "
   ]
  },
  {
   "cell_type": "code",
   "execution_count": 3,
   "metadata": {},
   "outputs": [
    {
     "data": {
      "text/html": [
       "<div>\n",
       "<style scoped>\n",
       "    .dataframe tbody tr th:only-of-type {\n",
       "        vertical-align: middle;\n",
       "    }\n",
       "\n",
       "    .dataframe tbody tr th {\n",
       "        vertical-align: top;\n",
       "    }\n",
       "\n",
       "    .dataframe thead th {\n",
       "        text-align: right;\n",
       "    }\n",
       "</style>\n",
       "<table border=\"1\" class=\"dataframe\">\n",
       "  <thead>\n",
       "    <tr style=\"text-align: right;\">\n",
       "      <th></th>\n",
       "      <th>Sukunimi</th>\n",
       "      <th>Yhteensä</th>\n",
       "    </tr>\n",
       "  </thead>\n",
       "  <tbody>\n",
       "    <tr>\n",
       "      <th>0</th>\n",
       "      <td>Korhonen</td>\n",
       "      <td>22204</td>\n",
       "    </tr>\n",
       "    <tr>\n",
       "      <th>1</th>\n",
       "      <td>Virtanen</td>\n",
       "      <td>21578</td>\n",
       "    </tr>\n",
       "    <tr>\n",
       "      <th>2</th>\n",
       "      <td>Mäkinen</td>\n",
       "      <td>19874</td>\n",
       "    </tr>\n",
       "    <tr>\n",
       "      <th>3</th>\n",
       "      <td>Nieminen</td>\n",
       "      <td>19668</td>\n",
       "    </tr>\n",
       "    <tr>\n",
       "      <th>4</th>\n",
       "      <td>Mäkelä</td>\n",
       "      <td>18809</td>\n",
       "    </tr>\n",
       "    <tr>\n",
       "      <th>...</th>\n",
       "      <td>...</td>\n",
       "      <td>...</td>\n",
       "    </tr>\n",
       "    <tr>\n",
       "      <th>22875</th>\n",
       "      <td>Åbrandt</td>\n",
       "      <td>20</td>\n",
       "    </tr>\n",
       "    <tr>\n",
       "      <th>22876</th>\n",
       "      <td>Åkerblad</td>\n",
       "      <td>20</td>\n",
       "    </tr>\n",
       "    <tr>\n",
       "      <th>22877</th>\n",
       "      <td>Äimänen</td>\n",
       "      <td>20</td>\n",
       "    </tr>\n",
       "    <tr>\n",
       "      <th>22878</th>\n",
       "      <td>Ämtö</td>\n",
       "      <td>20</td>\n",
       "    </tr>\n",
       "    <tr>\n",
       "      <th>22879</th>\n",
       "      <td>Övergaard</td>\n",
       "      <td>20</td>\n",
       "    </tr>\n",
       "  </tbody>\n",
       "</table>\n",
       "<p>22880 rows × 2 columns</p>\n",
       "</div>"
      ],
      "text/plain": [
       "        Sukunimi  Yhteensä\n",
       "0       Korhonen     22204\n",
       "1       Virtanen     21578\n",
       "2        Mäkinen     19874\n",
       "3       Nieminen     19668\n",
       "4         Mäkelä     18809\n",
       "...          ...       ...\n",
       "22875    Åbrandt        20\n",
       "22876   Åkerblad        20\n",
       "22877    Äimänen        20\n",
       "22878       Ämtö        20\n",
       "22879  Övergaard        20\n",
       "\n",
       "[22880 rows x 2 columns]"
      ]
     },
     "execution_count": 3,
     "metadata": {},
     "output_type": "execute_result"
    }
   ],
   "source": [
    "# Määritetään dataframeksi exeltiedosto\n",
    "import pandas as pd\n",
    "df = pd.read_excel('sukunimitilasto-2021-02-05-dvv.xlsx')\n",
    "df"
   ]
  },
  {
   "cell_type": "code",
   "execution_count": null,
   "metadata": {},
   "outputs": [],
   "source": [
    "# Poistetaan kaikki nimet joita on alle 1000 kpl\n",
    "df = df[df['Yhteensä'] >= 1000]"
   ]
  },
  {
   "cell_type": "code",
   "execution_count": null,
   "metadata": {},
   "outputs": [],
   "source": [
    "# Poistetaan nyt lukumääräsarake\n",
    "df = df.drop(columns=['Yhteensä'])"
   ]
  },
  {
   "cell_type": "code",
   "execution_count": null,
   "metadata": {},
   "outputs": [],
   "source": [
    "# Tallennetaan tekstitiedostoksi\n",
    "import numpy as np\n",
    "df.to_csv(\"finnish.txt\", header=None, index=None, sep=',', mode='w')"
   ]
  },
  {
   "cell_type": "code",
   "execution_count": 4,
   "metadata": {
    "collapsed": false,
    "jupyter": {
     "outputs_hidden": false
    }
   },
   "outputs": [
    {
     "name": "stdout",
     "output_type": "stream",
     "text": [
      "['data/names/Scottish.txt', 'data/names/English.txt', 'data/names/Greek.txt', 'data/names/Dutch.txt', 'data/names/Finnish.txt', 'data/names/Portuguese.txt', 'data/names/Chinese.txt', 'data/names/German.txt', 'data/names/Czech.txt', 'data/names/Vietnamese.txt', 'data/names/Arabic.txt', 'data/names/Polish.txt', 'data/names/Korean.txt', 'data/names/Italian.txt', 'data/names/Irish.txt', 'data/names/Russian.txt', 'data/names/Japanese.txt', 'data/names/Spanish.txt', 'data/names/French.txt']\n",
      "Slusarski\n"
     ]
    }
   ],
   "source": [
    "from __future__ import unicode_literals, print_function, division\n",
    "from io import open\n",
    "import glob\n",
    "import os\n",
    "\n",
    "def findFiles(path): return glob.glob(path)\n",
    "\n",
    "print(findFiles('data/names/*.txt'))\n",
    "\n",
    "import unicodedata\n",
    "import string\n",
    "\n",
    "all_letters = string.ascii_letters + \" .,;'\"\n",
    "n_letters = len(all_letters)\n",
    "\n",
    "# Turn a Unicode string to plain ASCII, thanks to https://stackoverflow.com/a/518232/2809427\n",
    "def unicodeToAscii(s):\n",
    "    return ''.join(\n",
    "        c for c in unicodedata.normalize('NFD', s)\n",
    "        if unicodedata.category(c) != 'Mn'\n",
    "        and c in all_letters\n",
    "    )\n",
    "\n",
    "print(unicodeToAscii('Ślusàrski'))\n",
    "\n",
    "# Build the category_lines dictionary, a list of names per language\n",
    "category_lines = {}\n",
    "all_categories = []\n",
    "\n",
    "# Read a file and split into lines\n",
    "def readLines(filename):\n",
    "    lines = open(filename, encoding='utf-8').read().strip().split('\\n')\n",
    "    return [unicodeToAscii(line) for line in lines]\n",
    "\n",
    "for filename in findFiles('data/names/*.txt'):\n",
    "    category = os.path.splitext(os.path.basename(filename))[0]\n",
    "    all_categories.append(category)\n",
    "    lines = readLines(filename)\n",
    "    category_lines[category] = lines\n",
    "\n",
    "n_categories = len(all_categories)"
   ]
  },
  {
   "cell_type": "markdown",
   "metadata": {},
   "source": [
    "Now we have ``category_lines``, a dictionary mapping each category\n",
    "(language) to a list of lines (names). We also kept track of\n",
    "``all_categories`` (just a list of languages) and ``n_categories`` for\n",
    "later reference.\n",
    "\n",
    "\n"
   ]
  },
  {
   "cell_type": "code",
   "execution_count": 5,
   "metadata": {
    "collapsed": false,
    "jupyter": {
     "outputs_hidden": false
    }
   },
   "outputs": [
    {
     "name": "stdout",
     "output_type": "stream",
     "text": [
      "['Abandonato', 'Abatangelo', 'Abatantuono', 'Abate', 'Abategiovanni']\n",
      "['Korhonen', 'Virtanen', 'Makinen', 'Nieminen', 'Makela']\n"
     ]
    }
   ],
   "source": [
    "print(category_lines['Italian'][:5])\n",
    "# Suomalaisista nimistä ensimmäiset viisi\n",
    "print(category_lines['Finnish'][:5])"
   ]
  },
  {
   "cell_type": "code",
   "execution_count": 6,
   "metadata": {},
   "outputs": [
    {
     "data": {
      "text/plain": [
       "['Scottish',\n",
       " 'English',\n",
       " 'Greek',\n",
       " 'Dutch',\n",
       " 'Finnish',\n",
       " 'Portuguese',\n",
       " 'Chinese',\n",
       " 'German',\n",
       " 'Czech',\n",
       " 'Vietnamese',\n",
       " 'Arabic',\n",
       " 'Polish',\n",
       " 'Korean',\n",
       " 'Italian',\n",
       " 'Irish',\n",
       " 'Russian',\n",
       " 'Japanese',\n",
       " 'Spanish',\n",
       " 'French']"
      ]
     },
     "execution_count": 6,
     "metadata": {},
     "output_type": "execute_result"
    }
   ],
   "source": [
    "all_categories"
   ]
  },
  {
   "cell_type": "markdown",
   "metadata": {},
   "source": [
    "Turning Names into Tensors\n",
    "--------------------------\n",
    "\n",
    "Now that we have all the names organized, we need to turn them into\n",
    "Tensors to make any use of them.\n",
    "\n",
    "To represent a single letter, we use a \"one-hot vector\" of size\n",
    "``<1 x n_letters>``. A one-hot vector is filled with 0s except for a 1\n",
    "at index of the current letter, e.g. ``\"b\" = <0 1 0 0 0 ...>``.\n",
    "\n",
    "To make a word we join a bunch of those into a 2D matrix\n",
    "``<line_length x 1 x n_letters>``.\n",
    "\n",
    "That extra 1 dimension is because PyTorch assumes everything is in\n",
    "batches - we're just using a batch size of 1 here.\n",
    "\n",
    "\n"
   ]
  },
  {
   "cell_type": "code",
   "execution_count": 7,
   "metadata": {
    "collapsed": false,
    "jupyter": {
     "outputs_hidden": false
    }
   },
   "outputs": [
    {
     "name": "stdout",
     "output_type": "stream",
     "text": [
      "tensor([[0., 0., 0., 0., 0., 0., 0., 0., 0., 0., 0., 0., 0., 0., 0., 0., 0., 0.,\n",
      "         0., 0., 0., 0., 0., 0., 0., 0., 0., 0., 0., 0., 0., 0., 0., 0., 0., 1.,\n",
      "         0., 0., 0., 0., 0., 0., 0., 0., 0., 0., 0., 0., 0., 0., 0., 0., 0., 0.,\n",
      "         0., 0., 0.]])\n",
      "torch.Size([5, 1, 57])\n"
     ]
    }
   ],
   "source": [
    "import torch\n",
    "\n",
    "# Find letter index from all_letters, e.g. \"a\" = 0\n",
    "def letterToIndex(letter):\n",
    "    return all_letters.find(letter)\n",
    "\n",
    "# Just for demonstration, turn a letter into a <1 x n_letters> Tensor\n",
    "def letterToTensor(letter):\n",
    "    tensor = torch.zeros(1, n_letters)\n",
    "    tensor[0][letterToIndex(letter)] = 1\n",
    "    return tensor\n",
    "\n",
    "# Turn a line into a <line_length x 1 x n_letters>,\n",
    "# or an array of one-hot letter vectors\n",
    "def lineToTensor(line):\n",
    "    tensor = torch.zeros(len(line), 1, n_letters)\n",
    "    for li, letter in enumerate(line):\n",
    "        tensor[li][0][letterToIndex(letter)] = 1\n",
    "    return tensor\n",
    "\n",
    "print(letterToTensor('J'))\n",
    "\n",
    "print(lineToTensor('Jones').size())"
   ]
  },
  {
   "cell_type": "markdown",
   "metadata": {},
   "source": [
    "Creating the Network\n",
    "====================\n",
    "\n",
    "Before autograd, creating a recurrent neural network in Torch involved\n",
    "cloning the parameters of a layer over several timesteps. The layers\n",
    "held hidden state and gradients which are now entirely handled by the\n",
    "graph itself. This means you can implement a RNN in a very \"pure\" way,\n",
    "as regular feed-forward layers.\n",
    "\n",
    "This RNN module (mostly copied from `the PyTorch for Torch users\n",
    "tutorial <https://pytorch.org/tutorials/beginner/former_torchies/\n",
    "nn_tutorial.html#example-2-recurrent-net>`__)\n",
    "is just 2 linear layers which operate on an input and hidden state, with\n",
    "a LogSoftmax layer after the output.\n",
    "\n",
    ".. figure:: https://i.imgur.com/Z2xbySO.png\n",
    "   :alt:\n",
    "\n",
    "\n",
    "\n"
   ]
  },
  {
   "cell_type": "code",
   "execution_count": 8,
   "metadata": {
    "collapsed": false,
    "jupyter": {
     "outputs_hidden": false
    }
   },
   "outputs": [],
   "source": [
    "import torch.nn as nn\n",
    "\n",
    "class RNN(nn.Module):\n",
    "    def __init__(self, input_size, hidden_size, output_size):\n",
    "        super(RNN, self).__init__()\n",
    "\n",
    "        self.hidden_size = hidden_size\n",
    "\n",
    "        self.i2h = nn.Linear(input_size + hidden_size, hidden_size)\n",
    "        self.i2o = nn.Linear(input_size + hidden_size, output_size)\n",
    "        self.softmax = nn.LogSoftmax(dim=1)\n",
    "\n",
    "    def forward(self, input, hidden):\n",
    "        combined = torch.cat((input, hidden), 1)\n",
    "        hidden = self.i2h(combined)\n",
    "        output = self.i2o(combined)\n",
    "        output = self.softmax(output)\n",
    "        return output, hidden\n",
    "\n",
    "    def initHidden(self):\n",
    "        return torch.zeros(1, self.hidden_size)\n",
    "\n",
    "n_hidden = 128\n",
    "rnn = RNN(n_letters, n_hidden, n_categories)"
   ]
  },
  {
   "cell_type": "markdown",
   "metadata": {},
   "source": [
    "To run a step of this network we need to pass an input (in our case, the\n",
    "Tensor for the current letter) and a previous hidden state (which we\n",
    "initialize as zeros at first). We'll get back the output (probability of\n",
    "each language) and a next hidden state (which we keep for the next\n",
    "step).\n",
    "\n",
    "\n"
   ]
  },
  {
   "cell_type": "code",
   "execution_count": 9,
   "metadata": {
    "collapsed": false,
    "jupyter": {
     "outputs_hidden": false
    }
   },
   "outputs": [],
   "source": [
    "input = letterToTensor('A')\n",
    "hidden =torch.zeros(1, n_hidden)\n",
    "\n",
    "output, next_hidden = rnn(input, hidden)"
   ]
  },
  {
   "cell_type": "markdown",
   "metadata": {},
   "source": [
    "For the sake of efficiency we don't want to be creating a new Tensor for\n",
    "every step, so we will use ``lineToTensor`` instead of\n",
    "``letterToTensor`` and use slices. This could be further optimized by\n",
    "pre-computing batches of Tensors.\n",
    "\n",
    "\n"
   ]
  },
  {
   "cell_type": "code",
   "execution_count": 10,
   "metadata": {
    "collapsed": false,
    "jupyter": {
     "outputs_hidden": false
    }
   },
   "outputs": [
    {
     "name": "stdout",
     "output_type": "stream",
     "text": [
      "tensor([[-2.8338, -3.0138, -2.9221, -3.0456, -2.9748, -3.0571, -2.8719, -2.9830,\n",
      "         -2.8901, -3.0155, -2.9073, -2.9652, -3.0032, -2.9440, -2.9951, -2.8509,\n",
      "         -2.9808, -2.8375, -2.8966]], grad_fn=<LogSoftmaxBackward>)\n"
     ]
    }
   ],
   "source": [
    "input = lineToTensor('Albert')\n",
    "hidden = torch.zeros(1, n_hidden)\n",
    "\n",
    "output, next_hidden = rnn(input[0], hidden)\n",
    "print(output)"
   ]
  },
  {
   "cell_type": "markdown",
   "metadata": {},
   "source": [
    "As you can see the output is a ``<1 x n_categories>`` Tensor, where\n",
    "every item is the likelihood of that category (higher is more likely).\n",
    "\n",
    "\n"
   ]
  },
  {
   "cell_type": "markdown",
   "metadata": {},
   "source": [
    "Training\n",
    "========\n",
    "Preparing for Training\n",
    "----------------------\n",
    "\n",
    "Before going into training we should make a few helper functions. The\n",
    "first is to interpret the output of the network, which we know to be a\n",
    "likelihood of each category. We can use ``Tensor.topk`` to get the index\n",
    "of the greatest value:\n",
    "\n",
    "\n"
   ]
  },
  {
   "cell_type": "code",
   "execution_count": 11,
   "metadata": {
    "collapsed": false,
    "jupyter": {
     "outputs_hidden": false
    }
   },
   "outputs": [
    {
     "name": "stdout",
     "output_type": "stream",
     "text": [
      "('Scottish', 0)\n"
     ]
    }
   ],
   "source": [
    "def categoryFromOutput(output):\n",
    "    top_n, top_i = output.topk(1)\n",
    "    category_i = top_i[0].item()\n",
    "    return all_categories[category_i], category_i\n",
    "\n",
    "print(categoryFromOutput(output))"
   ]
  },
  {
   "cell_type": "markdown",
   "metadata": {},
   "source": [
    "We will also want a quick way to get a training example (a name and its\n",
    "language):\n",
    "\n",
    "\n"
   ]
  },
  {
   "cell_type": "code",
   "execution_count": 12,
   "metadata": {
    "collapsed": false,
    "jupyter": {
     "outputs_hidden": false
    }
   },
   "outputs": [
    {
     "name": "stdout",
     "output_type": "stream",
     "text": [
      "category = Japanese / line = Tsukawaki\n",
      "category = Scottish / line = Duncan\n",
      "category = Korean / line = Gil\n",
      "category = Scottish / line = Black\n",
      "category = Russian / line = Haratyan\n",
      "category = Greek / line = Forakis\n",
      "category = Russian / line = Shakhmaev\n",
      "category = Japanese / line = Nitta\n",
      "category = French / line = Martel\n",
      "category = French / line = Augustin\n",
      "category = Czech / line = Janca\n"
     ]
    }
   ],
   "source": [
    "import random\n",
    "\n",
    "def randomChoice(l):\n",
    "    return l[random.randint(0, len(l) - 1)]\n",
    "\n",
    "def randomTrainingExample():\n",
    "    category = randomChoice(all_categories)\n",
    "    line = randomChoice(category_lines[category])\n",
    "    category_tensor = torch.tensor([all_categories.index(category)], dtype=torch.long)\n",
    "    line_tensor = lineToTensor(line)\n",
    "    return category, line, category_tensor, line_tensor\n",
    "\n",
    "for i in range(11):\n",
    "    category, line, category_tensor, line_tensor = randomTrainingExample()\n",
    "    print('category =', category, '/ line =', line)"
   ]
  },
  {
   "cell_type": "markdown",
   "metadata": {},
   "source": [
    "Training the Network\n",
    "--------------------\n",
    "\n",
    "Now all it takes to train this network is show it a bunch of examples,\n",
    "have it make guesses, and tell it if it's wrong.\n",
    "\n",
    "For the loss function ``nn.NLLLoss`` is appropriate, since the last\n",
    "layer of the RNN is ``nn.LogSoftmax``.\n",
    "\n",
    "\n"
   ]
  },
  {
   "cell_type": "code",
   "execution_count": 13,
   "metadata": {
    "collapsed": false,
    "jupyter": {
     "outputs_hidden": false
    }
   },
   "outputs": [],
   "source": [
    "criterion = nn.NLLLoss()"
   ]
  },
  {
   "cell_type": "markdown",
   "metadata": {},
   "source": [
    "Each loop of training will:\n",
    "\n",
    "-  Create input and target tensors\n",
    "-  Create a zeroed initial hidden state\n",
    "-  Read each letter in and\n",
    "\n",
    "   -  Keep hidden state for next letter\n",
    "\n",
    "-  Compare final output to target\n",
    "-  Back-propagate\n",
    "-  Return the output and loss\n",
    "\n",
    "\n"
   ]
  },
  {
   "cell_type": "code",
   "execution_count": 14,
   "metadata": {
    "collapsed": false,
    "jupyter": {
     "outputs_hidden": false
    }
   },
   "outputs": [],
   "source": [
    "learning_rate = 0.005 # If you set this too high, it might explode. If too low, it might not learn\n",
    "\n",
    "def train(category_tensor, line_tensor):\n",
    "    hidden = rnn.initHidden()\n",
    "\n",
    "    rnn.zero_grad()\n",
    "\n",
    "    for i in range(line_tensor.size()[0]):\n",
    "        output, hidden = rnn(line_tensor[i], hidden)\n",
    "\n",
    "    loss = criterion(output, category_tensor)\n",
    "    loss.backward()\n",
    "\n",
    "    # Add parameters' gradients to their values, multiplied by learning rate\n",
    "    for p in rnn.parameters():\n",
    "        p.data.add_(p.grad.data, alpha=-learning_rate)\n",
    "\n",
    "    return output, loss.item()"
   ]
  },
  {
   "cell_type": "markdown",
   "metadata": {},
   "source": [
    "Now we just have to run that with a bunch of examples. Since the\n",
    "``train`` function returns both the output and loss we can print its\n",
    "guesses and also keep track of loss for plotting. Since there are 1000s\n",
    "of examples we print only every ``print_every`` examples, and take an\n",
    "average of the loss.\n",
    "\n",
    "\n"
   ]
  },
  {
   "cell_type": "markdown",
   "metadata": {},
   "source": [
    "1. Tutustu nimiä luokittelevaan RNN -verkkoon ja lisää siihen suomalaisten nimien tunnistus. \n",
    "2. Lisää koulutusvaiheeseen printit, jotka kertovat verkon oppimisesta **(running_loss tulostus ja oikein ennustetut kansalaisuudet %)**, ja tarkista, että verkko oppii oikein.\n",
    "3. Nollaa verkko alustamalla se uudestaan ja kouluta se 100 000 iteraation loopilla. **Kuinka monta % suomalaisista nimistä verkko osaa ennustaa oikein suomalaisiksi?** Mitä se ennustaa sinun nimellä?\n",
    "4. Miten verkon voisi saada toimimaan paremmin? \n",
    "**Extra tehtävä:** Testaa, paraneeko verkon suorituskyky, jos pinoat 3 RNN solua päällekkäin."
   ]
  },
  {
   "cell_type": "code",
   "execution_count": 15,
   "metadata": {
    "collapsed": false,
    "jupyter": {
     "outputs_hidden": false
    }
   },
   "outputs": [
    {
     "name": "stdout",
     "output_type": "stream",
     "text": [
      "Iter: 2000... Running loss: 2.901... Right preds: 50.00%\n",
      "Iter: 4000... Running loss: 2.807... Right preds: 50.00%\n",
      "Iter: 6000... Running loss: 2.613... Right preds: 33.33%\n",
      "Iter: 8000... Running loss: 2.410... Right preds: 25.00%\n",
      "Iter: 10000... Running loss: 2.265... Right preds: 40.00%\n",
      "Iter: 12000... Running loss: 2.194... Right preds: 33.33%\n",
      "Iter: 14000... Running loss: 2.112... Right preds: 28.57%\n",
      "Iter: 16000... Running loss: 2.002... Right preds: 31.25%\n",
      "Iter: 18000... Running loss: 1.950... Right preds: 33.33%\n",
      "Iter: 20000... Running loss: 1.951... Right preds: 40.00%\n",
      "Iter: 22000... Running loss: 1.887... Right preds: 40.91%\n",
      "Iter: 24000... Running loss: 1.839... Right preds: 37.50%\n",
      "Iter: 26000... Running loss: 1.812... Right preds: 42.31%\n",
      "Iter: 28000... Running loss: 1.778... Right preds: 42.86%\n",
      "Iter: 30000... Running loss: 1.753... Right preds: 43.33%\n",
      "Iter: 32000... Running loss: 1.735... Right preds: 43.75%\n",
      "Iter: 34000... Running loss: 1.713... Right preds: 44.12%\n",
      "Iter: 36000... Running loss: 1.679... Right preds: 44.44%\n",
      "Iter: 38000... Running loss: 1.682... Right preds: 44.74%\n",
      "Iter: 40000... Running loss: 1.626... Right preds: 47.50%\n",
      "Iter: 42000... Running loss: 1.582... Right preds: 45.24%\n",
      "Iter: 44000... Running loss: 1.581... Right preds: 43.18%\n",
      "Iter: 46000... Running loss: 1.565... Right preds: 43.48%\n",
      "Iter: 48000... Running loss: 1.581... Right preds: 41.67%\n",
      "Iter: 50000... Running loss: 1.473... Right preds: 42.00%\n",
      "Iter: 52000... Running loss: 1.520... Right preds: 44.23%\n",
      "Iter: 54000... Running loss: 1.496... Right preds: 46.30%\n",
      "Iter: 56000... Running loss: 1.498... Right preds: 46.43%\n",
      "Iter: 58000... Running loss: 1.487... Right preds: 46.55%\n",
      "Iter: 60000... Running loss: 1.469... Right preds: 46.67%\n",
      "Iter: 62000... Running loss: 1.416... Right preds: 45.16%\n",
      "Iter: 64000... Running loss: 1.508... Right preds: 45.31%\n",
      "Iter: 66000... Running loss: 1.460... Right preds: 46.97%\n",
      "Iter: 68000... Running loss: 1.459... Right preds: 47.06%\n",
      "Iter: 70000... Running loss: 1.445... Right preds: 47.14%\n",
      "Iter: 72000... Running loss: 1.415... Right preds: 47.22%\n",
      "Iter: 74000... Running loss: 1.413... Right preds: 45.95%\n",
      "Iter: 76000... Running loss: 1.463... Right preds: 47.37%\n",
      "Iter: 78000... Running loss: 1.448... Right preds: 46.15%\n",
      "Iter: 80000... Running loss: 1.400... Right preds: 46.25%\n",
      "Iter: 82000... Running loss: 1.384... Right preds: 46.34%\n",
      "Iter: 84000... Running loss: 1.384... Right preds: 47.62%\n",
      "Iter: 86000... Running loss: 1.353... Right preds: 48.84%\n",
      "Iter: 88000... Running loss: 1.305... Right preds: 48.86%\n",
      "Iter: 90000... Running loss: 1.343... Right preds: 48.89%\n",
      "Iter: 92000... Running loss: 1.318... Right preds: 48.91%\n",
      "Iter: 94000... Running loss: 1.348... Right preds: 48.94%\n",
      "Iter: 96000... Running loss: 1.340... Right preds: 48.96%\n",
      "Iter: 98000... Running loss: 1.344... Right preds: 50.00%\n",
      "Iter: 100000... Running loss: 1.309... Right preds: 51.00%\n"
     ]
    }
   ],
   "source": [
    "import time\n",
    "import math\n",
    "\n",
    "n_iters = 100000\n",
    "print_every = 1000\n",
    "plot_every = 2000\n",
    "right_preds = [] \n",
    "\n",
    "# Keep track of losses for plotting\n",
    "current_loss = 0\n",
    "all_losses = []\n",
    "steps = 0\n",
    "\n",
    "def timeSince(since):\n",
    "    now = time.time()\n",
    "    s = now - since\n",
    "    m = math.floor(s / 60)\n",
    "    s -= m * 60\n",
    "    return '%dm %ds' % (m, s)\n",
    "\n",
    "start = time.time()\n",
    "\n",
    "for iter in range(1, n_iters + 1):\n",
    "    category, line, category_tensor, line_tensor = randomTrainingExample()\n",
    "    output, loss = train(category_tensor, line_tensor)\n",
    "    current_loss += loss\n",
    "\n",
    "    # Print iter number, loss, name and guess\n",
    "    if iter % print_every == 0:\n",
    "        steps += 1\n",
    "        guess, guess_i = categoryFromOutput(output)\n",
    "        if guess == category:\n",
    "            right_preds.append(guess_i)\n",
    "        \n",
    "    # Add current loss avg to list of losses\n",
    "    if iter % plot_every == 0:\n",
    "        print(f\"Iter: {iter}... \"\n",
    "              f\"Running loss: {current_loss/plot_every:.3f}... \"\n",
    "              f\"Right preds: {(len(right_preds)/steps)*100:.2f}%\")\n",
    "        all_losses.append(current_loss / plot_every)\n",
    "        current_loss = 0\n",
    "        "
   ]
  },
  {
   "cell_type": "code",
   "execution_count": 14,
   "metadata": {},
   "outputs": [
    {
     "data": {
      "text/plain": [
       "0"
      ]
     },
     "execution_count": 14,
     "metadata": {},
     "output_type": "execute_result"
    }
   ],
   "source": [
    "len(right_preds)"
   ]
  },
  {
   "cell_type": "code",
   "execution_count": 16,
   "metadata": {},
   "outputs": [
    {
     "data": {
      "text/plain": [
       "'Arabic'"
      ]
     },
     "execution_count": 16,
     "metadata": {},
     "output_type": "execute_result"
    }
   ],
   "source": [
    "category"
   ]
  },
  {
   "cell_type": "code",
   "execution_count": 17,
   "metadata": {},
   "outputs": [
    {
     "data": {
      "text/plain": [
       "'Arabic'"
      ]
     },
     "execution_count": 17,
     "metadata": {},
     "output_type": "execute_result"
    }
   ],
   "source": [
    "guess"
   ]
  },
  {
   "cell_type": "code",
   "execution_count": 18,
   "metadata": {},
   "outputs": [
    {
     "name": "stdout",
     "output_type": "stream",
     "text": [
      "Arabic 10\n"
     ]
    }
   ],
   "source": [
    "print(guess,guess_i)"
   ]
  },
  {
   "cell_type": "code",
   "execution_count": 20,
   "metadata": {},
   "outputs": [
    {
     "name": "stdout",
     "output_type": "stream",
     "text": [
      "872\n"
     ]
    }
   ],
   "source": [
    "print(len(category_lines['Finnish']))"
   ]
  },
  {
   "cell_type": "code",
   "execution_count": 21,
   "metadata": {
    "collapsed": true,
    "jupyter": {
     "outputs_hidden": true
    }
   },
   "outputs": [
    {
     "name": "stdout",
     "output_type": "stream",
     "text": [
      "['Korhonen', 'Virtanen', 'Makinen', 'Nieminen', 'Makela', 'Hamalainen', 'Laine', 'Heikkinen', 'Koskinen', 'Jarvinen', 'Lehtonen', 'Lehtinen', 'Saarinen', 'Salminen', 'Heinonen', 'Heikkila', 'Niemi', 'Kinnunen', 'Salonen', 'Turunen', 'Salo', 'Laitinen', 'Tuominen', 'Rantanen', 'Karjalainen', 'Jokinen', 'Mattila', 'Savolainen', 'Lahtinen', 'Ahonen', 'Ojala', 'Leppanen', 'Kallio', 'Vaisanen', 'Leinonen', 'Hiltunen', 'Miettinen', 'Pitkanen', 'Aaltonen', 'Manninen', 'Koivisto', 'Hakala', 'Anttila', 'Laaksonen', 'Hirvonen', 'Rasanen', 'Lehto', 'Laakso', 'Toivonen', 'Rantala', 'Mustonen', 'Aalto', 'Niemela', 'Nurmi', 'Moilanen', 'Peltonen', 'Seppala', 'Pulkkinen', 'Hanninen', 'Saari', 'Lappalainen', 'Kettunen', 'Partanen', 'Kemppainen', 'Kauppinen', 'Koskela', 'Seppanen', 'Ahola', 'Salmi', 'Lahti', 'Huttunen', 'Ikonen', 'Aho', 'Suominen', 'Karkkainen', 'Pesonen', 'Halonen', 'Nyman', 'Mikkonen', 'Koponen', 'Johansson', 'Peltola', 'Oksanen', 'Lindholm', 'Niskanen', 'Vainio', 'Heiskanen', 'Mikkola', 'Honkanen', 'Koski', 'Immonen', 'Nurminen', 'Vuorinen', 'Harju', 'Maatta', 'Kokkonen', 'Rissanen', 'Karppinen', 'Maki', 'Rajala', 'Laukkanen', 'Heino', 'Juntunen', 'Jaaskelainen', 'Rautiainen', 'Kangas', 'Parviainen', 'Keranen', 'Hartikainen', 'Paananen', 'Leino', 'Karlsson', 'Maenpaa', 'Lindstrom', 'Ruotsalainen', 'Martikainen', 'Hyvarinen', 'Hakkarainen', 'Kokko', 'Uusitalo', 'Laurila', 'Tikkanen', 'Toivanen', 'Viitanen', 'Nevalainen', 'Salmela', 'Makkonen', 'Nykanen', 'Leskinen', 'Holopainen', 'Kuusisto', 'Hakkinen', 'Hietala', 'Andersson', 'Ranta', 'Tamminen', 'Eriksson', 'Korpela', 'Harkonen', 'Kukkonen', 'Karhu', 'Hyvonen', 'Karvonen', 'Jaakkola', 'Tiainen', 'Pasanen', 'Jokela', 'Vaananen', 'Saarela', 'Kosonen', 'Sillanpaa', 'Malinen', 'Rautio', 'Kujala', 'Virta', 'Lindroos', 'Autio', 'Timonen', 'Kivela', 'Lindqvist', 'Kolehmainen', 'Hokkanen', 'Jussila', 'Valtonen', 'Rinne', 'Lampinen', 'Raisanen', 'Tolonen', 'Huhtala', 'Nissinen', 'Nousiainen', 'Eskelinen', 'Vartiainen', 'Koivula', 'Laakkonen', 'Asikainen', 'Lepisto', 'Lindberg', 'Koistinen', 'Kuusela', 'Luoma', 'Pelkonen', 'Kyllonen', 'Liimatainen', 'Kulmala', 'Hautala', 'Tolvanen', 'Tuovinen', 'Pietila', 'Helenius', 'Penttinen', 'Koivunen', 'Viljanen', 'Huotari', 'Voutilainen', 'Riikonen', 'Pennanen', 'Hyttinen', 'Luukkonen', 'Marttila', 'Suhonen', 'Hietanen', 'Pakarinen', 'Repo', 'Karttunen', 'Jarvenpaa', 'Takala', 'Nuutinen', 'Kumpulainen', 'Haavisto', 'Ketola', 'Lindgren', 'Ronkainen', 'Eskola', 'Eronen', 'Haapala', 'Eklund', 'Myllymaki', 'Lehtimaki', 'Auvinen', 'Kainulainen', 'Penttila', 'Huovinen', 'Saastamoinen', 'Vuori', 'Paavola', 'Liukkonen', 'Juvonen', 'Helin', 'Komulainen', 'Hautamaki', 'Viitala', 'Keskinen', 'Kivimaki', 'Markkanen', 'Taskinen', 'Ollila', 'Tuomi', 'Lahteenmaki', 'Rintala', 'Ollikainen', 'Silvennoinen', 'Suomalainen', 'Valimaki', 'Kahkonen', 'Sipila', 'Perala', 'Gustafsson', 'Halme', 'Lehtola', 'Blomqvist', 'Kuosmanen', 'Nylund', 'Kortelainen', 'Turpeinen', 'Hannula', 'Kantola', 'Tanskanen', 'Merilainen', 'Matilainen', 'Lindfors', 'Hytonen', 'Matikainen', 'Jalonen', 'Helminen', 'Jansson', 'Holm', 'Kivisto', 'Ylitalo', 'Alatalo', 'Kanerva', 'Varis', 'Tervo', 'Rytkonen', 'Puhakka', 'Soininen', 'Henriksson', 'Kiviniemi', 'Vayrynen', 'Erkkila', 'Kurki', 'Pajunen', 'Tarvainen', 'Taipale', 'Karvinen', 'Rauhala', 'Paakkonen', 'Nyberg', 'Ojanen', 'Berg', 'Kilpelainen', 'Puustinen', 'Laiho', 'Mantyla', 'Oinonen', 'Peltoniemi', 'Kankaanpaa', 'Mattsson', 'Lassila', 'Kuisma', 'Lehikoinen', 'Piirainen', 'Tikka', 'Backman', 'Raty', 'Haapanen', 'Pirinen', 'Kivinen', 'Jaatinen', 'Niiranen', 'Pohjola', 'Lipponen', 'Parkkinen', 'Korpi', 'Karki', 'Jauhiainen', 'Haverinen', 'Kauppila', 'Moisio', 'Kaikkonen', 'Valkonen', 'Keinanen', 'Jantti', 'Vesterinen', 'Venalainen', 'Ylonen', 'Ruuskanen', 'Haataja', 'Raatikainen', 'Sainio', 'Mononen', 'Rossi', 'Holmberg', 'Syrjala', 'Jarvela', 'Anttonen', 'Nikula', 'Kovanen', 'Holmstrom', 'Tirkkonen', 'Pekkala', 'Lilja', 'Ahokas', 'Pehkonen', 'Palomaki', 'Huuskonen', 'Latvala', 'Karhunen', 'Vuorela', 'Mannisto', 'Sallinen', 'Kuronen', 'Kamarainen', 'Valkama', 'Seppa', 'Oikarinen', 'Siren', 'Konttinen', 'Tiihonen', 'Elo', 'Linna', 'Muhonen', 'Alanko', 'Sjoblom', 'Alanen', 'Reinikainen', 'Salomaa', 'Riihimaki', 'Soini', 'Ryynanen', 'Sirvio', 'Simola', 'Eloranta', 'Keskitalo', 'Kiuru', 'Ronkko', 'Pekkarinen', 'Lammi', 'Forsman', 'Marttinen', 'Kari', 'Airaksinen', 'Nevala', 'Haapaniemi', 'Jarvi', 'Pollanen', 'Simonen', 'Aro', 'Holappa', 'Ylinen', 'Uotila', 'Antikainen', 'Puranen', 'Sutinen', 'Ihalainen', 'Gronroos', 'Lankinen', 'Snellman', 'Sihvonen', 'Kalliokoski', 'Tahtinen', 'Kauppi', 'Joensuu', 'Aarnio', 'Paavilainen', 'Toivola', 'Lehti', 'Kauhanen', 'Virolainen', 'Sundstrom', 'Kiiskinen', 'Sivonen', 'Tormanen', 'Sormunen', 'Friman', 'Luoto', 'Hassinen', 'Eerola', 'Koivuniemi', 'Luostarinen', 'Suvanto', 'Ruohonen', 'Westerlund', 'Nordstrom', 'Kotilainen', 'Nenonen', 'Tuomisto', 'Ruuska', 'Sinkkonen', 'Kiiski', 'Tervonen', 'Nygard', 'Sorsa', 'Antila', 'Koljonen', 'Pietikainen', 'Sinisalo', 'Laamanen', 'Piiroinen', 'Bjorklund', 'Rajamaki', 'Pikkarainen', 'Suomela', 'Tenhunen', 'Ukkonen', 'Lamsa', 'Ekman', 'Kekkonen', 'Kuokkanen', 'Huusko', 'Siitonen', 'Forsstrom', 'Laitila', 'Nystrom', 'Vuorio', 'Paajanen', 'Lind', 'Neuvonen', 'Leppala', 'Suomi', 'Bergman', 'Jylha', 'Junttila', 'Alho', 'Vanhanen', 'Makitalo', 'Lyytikainen', 'Saarelainen', 'Kujanpaa', 'Arola', 'Vepsalainen', 'Tahvanainen', 'Poyhonen', 'Jantunen', 'Sandberg', 'Lempinen', 'Suutari', 'Vainionpaa', 'Hyytiainen', 'Narhi', 'Wikstrom', 'Hakanen', 'Kontio', 'Nyholm', 'Pakkanen', 'Tapio', 'Helander', 'Kosunen', 'Hynninen', 'Honkala', 'Tuomainen', 'Inkinen', 'Hurme', 'Minkkinen', 'Kaariainen', 'Kaartinen', 'Tauriainen', 'Saukkonen', 'Rintamaki', 'Ekholm', 'Palonen', 'Nummela', 'Piironen', 'Pirhonen', 'Pyykko', 'Kautto', 'Puttonen', 'Remes', 'Lukkarinen', 'Soderlund', 'Itkonen', 'Nurmela', 'Maattanen', 'Gronlund', 'Halttunen', 'Selin', 'Romppanen', 'Tukiainen', 'Koivu', 'Tammi', 'Harjula', 'Saukko', 'Vanhala', 'Nikkanen', 'Tiilikainen', 'Santala', 'Makila', 'Pekkanen', 'Kalliomaki', 'Kananen', 'Kivioja', 'Pyykkonen', 'Myllyla', 'Setala', 'Tuomaala', 'Valimaa', 'Koivumaki', 'Tossavainen', 'Ryhanen', 'Kuitunen', 'Piispanen', 'Sundqvist', 'Lindeman', 'Tuomela', 'Ahtiainen', 'Lintunen', 'Valtanen', 'Tyni', 'Ketonen', 'Happonen', 'Hovi', 'Hellsten', 'Pietilainen', 'Siekkinen', 'Tuhkanen', 'Mohamed', 'Siltanen', 'Sivula', 'Vesala', 'Hakola', 'Poutanen', 'Kataja', 'Paivarinta', 'Nyyssonen', 'Ramo', 'Hellman', 'Hakulinen', 'Kangasniemi', 'Haapalainen', 'Kuusinen', 'Toikka', 'Peltomaki', 'Nguyen', 'Mantynen', 'Piipponen', 'Vanska', 'Pellinen', 'Turtiainen', 'Kuivalainen', 'Vaittinen', 'Wallenius', 'Salin', 'Pettersson', 'Montonen', 'Stenberg', 'Piippo', 'Mykkanen', 'Honkonen', 'Torvinen', 'Linden', 'Valli', 'Talvitie', 'Kuittinen', 'Parkkonen', 'Sandstrom', 'Raiha', 'Kuikka', 'Syrjanen', 'Jalkanen', 'Sippola', 'Jappinen', 'Karna', 'Sjoberg', 'Herranen', 'Palosaari', 'Gronholm', 'Soikkeli', 'Utriainen', 'Hallikainen', 'Nikkinen', 'Kuparinen', 'Ali', 'Nikkila', 'Iivonen', 'Jaakola', 'Pursiainen', 'Lonnqvist', 'Orava', 'Mannikko', 'Mahonen', 'Raunio', 'Hynynen', 'Lamberg', 'Tuomola', 'Ojanpera', 'Puumalainen', 'Suni', 'Rahkonen', 'Nordlund', 'Katajamaki', 'Pellikka', 'Pulli', 'Annala', 'Savela', 'Vuorenmaa', 'Putkonen', 'Vatanen', 'Sairanen', 'Reijonen', 'Salovaara', 'Kakko', 'Niskala', 'Peltomaa', 'Kekalainen', 'Vehvilainen', 'Ohman', 'Lappi', 'Numminen', 'Saikkonen', 'Viljakainen', 'Naukkarinen', 'Kaunisto', 'Pynnonen', 'Juutilainen', 'Leivo', 'Kaukonen', 'Olkkonen', 'Tynkkynen', 'Isotalo', 'Kukkola', 'Pohjonen', 'Hukkanen', 'Kankkunen', 'Kervinen', 'Manner', 'Sundberg', 'Ervasti', 'Vauhkonen', 'Sipola', 'Vaatainen', 'Nordman', 'Nissila', 'Suokas', 'Heimonen', 'Jamsa', 'Virkkunen', 'Kurvinen', 'Haikonen', 'Wallin', 'Huhta', 'Pihlajamaki', 'Oja', 'Lahde', 'Siltala', 'Kohonen', 'Mutanen', 'Kaipainen', 'Lintula', 'Makelainen', 'Palmu', 'Malmberg', 'Pylkkanen', 'Roos', 'Holma', 'Vainikka', 'Vikman', 'Pihlaja', 'Reponen', 'Poutiainen', 'Vanhatalo', 'Paivinen', 'Sakkinen', 'Mannila', 'Huhtanen', 'Haanpaa', 'Kilpinen', 'Elomaa', 'Hurskainen', 'Ovaskainen', 'Ovaska', 'Kovalainen', 'Blom', 'Kupiainen', 'Lindell', 'Perttula', 'Vainikainen', 'Rouhiainen', 'Ahmed', 'Soderholm', 'Jokelainen', 'Kuoppala', 'Haapakoski', 'Kumpula', 'Murto', 'Viinikainen', 'Klemetti', 'Kiviranta', 'Raitanen', 'Suuronen', 'Kivi', 'Mielonen', 'Hintikka', 'Ek', 'Fagerstrom', 'Pietarinen', 'Tarkiainen', 'Himanen', 'Liikanen', 'Saarenpaa', 'Tuononen', 'Janhunen', 'Haapamaki', 'Lundberg', 'Rekola', 'Ratilainen', 'Siivonen', 'Ruokonen', 'Bergstrom', 'Leskela', 'Veijalainen', 'Rantamaki', 'Parikka', 'Sarkkinen', 'Grohn', 'Julkunen', 'Marjamaki', 'Kirjavainen', 'Sundell', 'Jalava', 'Laatikainen', 'Kannisto', 'Rahikainen', 'Strom', 'Varjonen', 'Granlund', 'Ripatti', 'Nikander', 'Junnila', 'Vesa', 'Saario', 'Raappana', 'Tanninen', 'Granholm', 'Saarikoski', 'Vanttinen', 'Palo', 'Pentikainen', 'Vaara', 'Reunanen', 'Kemppi', 'Myllynen', 'Hongisto', 'Kauranen', 'Rautanen', 'Lyytinen', 'Paasonen', 'Peura', 'Haggblom', 'Ilomaki', 'Kekki', 'Nisula', 'Westerholm', 'Juhola', 'Kesti', 'Martin', 'Aijala', 'Okkonen', 'Blomberg', 'Kunnari', 'Hulkkonen', 'Loikkanen', 'Sarajarvi', 'Heinanen', 'Majuri', 'Lampela', 'Maijala', 'Oksa', 'Ahlgren', 'Jutila', 'Aberg', 'Lukkari', 'Niinimaki', 'Ostman', 'Rosenberg', 'Akerlund', 'Forsberg', 'Kolari', 'Katainen', 'Ristimaki', 'Tolli', 'Takkinen', 'Sjoholm', 'Vilen', 'Forss', 'Kontkanen', 'Lamminen', 'Pollari', 'Kytola', 'Vornanen', 'Ropponen', 'Tuppurainen', 'Korkiakoski', 'Soderstrom', 'Knuutila', 'Lundstrom', 'Roininen', 'Tissari', 'Metso', 'Makipaa', 'Backman', 'Heikura', 'Hirvela', 'Ijas', 'Hedman', 'Hietamaki', 'Arvola', 'Weckstrom', 'Sorvari', 'Aronen', 'Kela', 'Tiitinen', 'Lempiainen', 'Vikstrom', 'Markkula', 'Uutela', 'Osterberg', 'Kapanen', 'Malm', 'Harma', 'Juutinen', 'Nilsson', 'Puurunen', 'Korpinen', 'Kaasinen', 'Kemppinen', 'Simila', 'Olli', 'Saloranta', 'Yrjola', 'Myllykoski', 'Palm', 'Bjorkman']\n"
     ]
    }
   ],
   "source": [
    "print(category_lines['Finnish'])"
   ]
  },
  {
   "cell_type": "markdown",
   "metadata": {},
   "source": [
    "Plotting the Results\n",
    "--------------------\n",
    "\n",
    "Plotting the historical loss from ``all_losses`` shows the network\n",
    "learning:\n",
    "\n",
    "\n"
   ]
  },
  {
   "cell_type": "code",
   "execution_count": 22,
   "metadata": {
    "collapsed": false,
    "jupyter": {
     "outputs_hidden": false
    }
   },
   "outputs": [
    {
     "data": {
      "text/plain": [
       "[<matplotlib.lines.Line2D at 0x7fdbdc661050>]"
      ]
     },
     "execution_count": 22,
     "metadata": {},
     "output_type": "execute_result"
    },
    {
     "data": {
      "image/png": "[encoded data removed]",
      "text/plain": [
       "<Figure size 432x288 with 1 Axes>"
      ]
     },
     "metadata": {
      "needs_background": "light"
     },
     "output_type": "display_data"
    }
   ],
   "source": [
    "import matplotlib.pyplot as plt\n",
    "import matplotlib.ticker as ticker\n",
    "\n",
    "plt.figure()\n",
    "plt.plot(all_losses)"
   ]
  },
  {
   "cell_type": "markdown",
   "metadata": {},
   "source": [
    "Evaluating the Results\n",
    "======================\n",
    "\n",
    "To see how well the network performs on different categories, we will\n",
    "create a confusion matrix, indicating for every actual language (rows)\n",
    "which language the network guesses (columns). To calculate the confusion\n",
    "matrix a bunch of samples are run through the network with\n",
    "``evaluate()``, which is the same as ``train()`` minus the backprop.\n",
    "\n",
    "\n"
   ]
  },
  {
   "cell_type": "code",
   "execution_count": 23,
   "metadata": {
    "collapsed": false,
    "jupyter": {
     "outputs_hidden": false
    }
   },
   "outputs": [
    {
     "name": "stderr",
     "output_type": "stream",
     "text": [
      "/opt/conda/lib/python3.7/site-packages/ipykernel_launcher.py:33: UserWarning: FixedFormatter should only be used together with FixedLocator\n",
      "/opt/conda/lib/python3.7/site-packages/ipykernel_launcher.py:34: UserWarning: FixedFormatter should only be used together with FixedLocator\n"
     ]
    },
    {
     "data": {
      "image/png": "[encoded data removed]",
      "text/plain": [
       "<Figure size 432x288 with 2 Axes>"
      ]
     },
     "metadata": {
      "needs_background": "light"
     },
     "output_type": "display_data"
    }
   ],
   "source": [
    "# Keep track of correct guesses in a confusion matrix\n",
    "confusion = torch.zeros(n_categories, n_categories)\n",
    "n_confusion = 10000\n",
    "\n",
    "# Just return an output given a line\n",
    "def evaluate(line_tensor):\n",
    "    hidden = rnn.initHidden()\n",
    "\n",
    "    for i in range(line_tensor.size()[0]):\n",
    "        output, hidden = rnn(line_tensor[i], hidden)\n",
    "\n",
    "    return output\n",
    "\n",
    "# Go through a bunch of examples and record which are correctly guessed\n",
    "for i in range(n_confusion):\n",
    "    category, line, category_tensor, line_tensor = randomTrainingExample()\n",
    "    output = evaluate(line_tensor)\n",
    "    guess, guess_i = categoryFromOutput(output)\n",
    "    category_i = all_categories.index(category)\n",
    "    confusion[category_i][guess_i] += 1\n",
    "\n",
    "# Normalize by dividing every row by its sum\n",
    "for i in range(n_categories):\n",
    "    confusion[i] = confusion[i] / confusion[i].sum()\n",
    "\n",
    "# Set up plot\n",
    "fig = plt.figure()\n",
    "ax = fig.add_subplot(111)\n",
    "cax = ax.matshow(confusion.numpy())\n",
    "fig.colorbar(cax)\n",
    "\n",
    "# Set up axes\n",
    "ax.set_xticklabels([''] + all_categories, rotation=90)\n",
    "ax.set_yticklabels([''] + all_categories)\n",
    "\n",
    "# Force label at every tick\n",
    "ax.xaxis.set_major_locator(ticker.MultipleLocator(1))\n",
    "ax.yaxis.set_major_locator(ticker.MultipleLocator(1))\n",
    "\n",
    "# sphinx_gallery_thumbnail_number = 2\n",
    "plt.show()"
   ]
  },
  {
   "cell_type": "markdown",
   "metadata": {},
   "source": [
    "You can pick out bright spots off the main axis that show which\n",
    "languages it guesses incorrectly, e.g. Chinese for Korean, and Spanish\n",
    "for Italian. It seems to do very well with Greek, and very poorly with\n",
    "English (perhaps because of overlap with other languages).\n",
    "\n",
    "\n"
   ]
  },
  {
   "cell_type": "markdown",
   "metadata": {},
   "source": [
    "Running on User Input\n",
    "---------------------\n",
    "\n",
    "\n"
   ]
  },
  {
   "cell_type": "code",
   "execution_count": 88,
   "metadata": {
    "collapsed": false,
    "jupyter": {
     "outputs_hidden": false
    }
   },
   "outputs": [
    {
     "name": "stdout",
     "output_type": "stream",
     "text": [
      "\n",
      "> Karjalainen\n",
      "(-0.02) Finnish\n",
      "(-5.13) Spanish\n",
      "(-5.73) Russian\n"
     ]
    }
   ],
   "source": [
    "def predict(input_line, n_predictions=3):\n",
    "    print('\\n> %s' % input_line)\n",
    "    with torch.no_grad():\n",
    "        output = evaluate(lineToTensor(input_line))\n",
    "\n",
    "        # Get top N categories\n",
    "        topv, topi = output.topk(n_predictions, 1, True)\n",
    "        predictions = []\n",
    "        right_predictions = []\n",
    "        wrong_predictions = []\n",
    "        for i in range(n_predictions):\n",
    "            value = topv[0][i].item()\n",
    "            category_index = topi[0][i].item()\n",
    "            print('(%.2f) %s' % (value, all_categories[category_index]))\n",
    "\n",
    "            predictions.append([value, all_categories[category_index]])\n",
    "                      \n",
    "# predict('Dovesky')\n",
    "# predict('Jackson')\n",
    "# predict('Satoshi')\n",
    "\n",
    "# Ennustus omalla nimellä\n",
    "predict('Karjalainen')"
   ]
  },
  {
   "cell_type": "markdown",
   "metadata": {},
   "source": [
    "Verkko osaa tunnistaa hyvin nimeni suomalaiseksi."
   ]
  },
  {
   "cell_type": "markdown",
   "metadata": {},
   "source": [
    "## Tutkitaan, miten verkko osaa suomalaiset nimet"
   ]
  },
  {
   "cell_type": "code",
   "execution_count": 24,
   "metadata": {},
   "outputs": [],
   "source": [
    "def predict_finnish(input_line, n_predictions=3):\n",
    "    print('\\n> %s' % input_line)\n",
    "    with torch.no_grad():\n",
    "        output = evaluate(lineToTensor(input_line))\n",
    "\n",
    "        # Get top N categories\n",
    "        topv, topi = output.topk(n_predictions, 1, True)\n",
    "        predictions = []\n",
    "        right_predictions = []\n",
    "        wrong_predictions = []\n",
    "    \n",
    "        value = topv[0][0].item()\n",
    "        category_index = topi[0][0].item()\n",
    "        print('(%.2f) %s' % (value, all_categories[category_index]))\n",
    "        if all_categories[category_index] == 'Finnish':\n",
    "            print(\"Suomalainen nimi!\")\n",
    "            right_predictions.append(input_line)\n",
    "        else:\n",
    "            wrong_predictions.append(input_line)\n",
    "        predictions.append([value, all_categories[category_index]])\n",
    "     \n",
    "    print('Right predictions: ',len(right_predictions))\n",
    "    print('Wrong predictions: ',len(wrong_predictions))\n",
    "   # print('Accuracy:', len(right_predictions)/(len(category_lines['Finnish'])))\n",
    "    return right_predictions, wrong_predictions"
   ]
  },
  {
   "cell_type": "code",
   "execution_count": 1,
   "metadata": {},
   "outputs": [],
   "source": [
    "# for name in category_lines['Finnish']:\n",
    "#     predict_finnish(name)"
   ]
  },
  {
   "cell_type": "markdown",
   "metadata": {},
   "source": [
    "## Määritellään tarkkuus"
   ]
  },
  {
   "cell_type": "code",
   "execution_count": 30,
   "metadata": {},
   "outputs": [
    {
     "name": "stdout",
     "output_type": "stream",
     "text": [
      "Right predictions:  525\n",
      "Wrong predictions:  347\n",
      "Accuracy: 0.6020642201834863\n"
     ]
    }
   ],
   "source": [
    "right_predictions = []\n",
    "wrong_predictions = []\n",
    "for name in category_lines['Finnish']:\n",
    "    with torch.no_grad():\n",
    "        output = evaluate(lineToTensor(name))\n",
    "        topv, topi = output.topk(1, 1, True)\n",
    "        predictions = []\n",
    "        value = topv[0][0].item()\n",
    "        category_index = topi[0][0].item()\n",
    "        if all_categories[category_index] == 'Finnish':\n",
    "            right_predictions.append(name)\n",
    "        else:\n",
    "            wrong_predictions.append(name)\n",
    "        predictions.append([value, all_categories[category_index]])\n",
    "\n",
    "print('Right predictions: ',len(right_predictions))\n",
    "print('Wrong predictions: ',len(wrong_predictions))\n",
    "print('Accuracy:', len(right_predictions)/(len(category_lines['Finnish'])))"
   ]
  },
  {
   "cell_type": "markdown",
   "metadata": {},
   "source": [
    "- **Verkon tarkkuus noin 60 prosenttia.**"
   ]
  },
  {
   "cell_type": "markdown",
   "metadata": {},
   "source": [
    "- **Miten verkkoa voisi ehkä kokeilla parantaa:**\n",
    "    - Kasvattamalla suomenkielisen data-aineiston määrää koulutusvaiheessa\n",
    "    - Lisäämällä koulutuskierroksien (epokkien määrää)\n",
    "    - Ehkä syventämällä verkkoa eli lisäämällä kerroksia\n",
    "    - Kokeilemalla kokonaan erityyppistä verkkoa tai hyperparametreja\n",
    "    - Learning rate"
   ]
  },
  {
   "cell_type": "markdown",
   "metadata": {},
   "source": [
    "The final versions of the scripts `in the Practical PyTorch\n",
    "repo <https://github.com/spro/practical-pytorch/tree/master/char-rnn-classification>`__\n",
    "split the above code into a few files:\n",
    "\n",
    "-  ``data.py`` (loads files)\n",
    "-  ``model.py`` (defines the RNN)\n",
    "-  ``train.py`` (runs training)\n",
    "-  ``predict.py`` (runs ``predict()`` with command line arguments)\n",
    "-  ``server.py`` (serve prediction as a JSON API with bottle.py)\n",
    "\n",
    "Run ``train.py`` to train and save the network.\n",
    "\n",
    "Run ``predict.py`` with a name to view predictions:\n",
    "\n",
    "::\n",
    "\n",
    "    $ python predict.py Hazaki\n",
    "    (-0.42) Japanese\n",
    "    (-1.39) Polish\n",
    "    (-3.51) Czech\n",
    "\n",
    "Run ``server.py`` and visit http://localhost:5533/Yourname to get JSON\n",
    "output of predictions.\n",
    "\n",
    "\n"
   ]
  },
  {
   "cell_type": "markdown",
   "metadata": {},
   "source": [
    "Exercises\n",
    "=========\n",
    "\n",
    "-  Try with a different dataset of line -> category, for example:\n",
    "\n",
    "   -  Any word -> language\n",
    "   -  First name -> gender\n",
    "   -  Character name -> writer\n",
    "   -  Page title -> blog or subreddit\n",
    "\n",
    "-  Get better results with a bigger and/or better shaped network\n",
    "\n",
    "   -  Add more linear layers\n",
    "   -  Try the ``nn.LSTM`` and ``nn.GRU`` layers\n",
    "   -  Combine multiple of these RNNs as a higher level network\n",
    "\n",
    "\n"
   ]
  }
 ],
 "metadata": {
  "kernelspec": {
   "display_name": "Python 3",
   "language": "python",
   "name": "python3"
  },
  "language_info": {
   "codemirror_mode": {
    "name": "ipython",
    "version": 3
   },
   "file_extension": ".py",
   "mimetype": "text/x-python",
   "name": "python",
   "nbconvert_exporter": "python",
   "pygments_lexer": "ipython3",
   "version": "3.7.9"
  }
 },
 "nbformat": 4,
 "nbformat_minor": 4
}
